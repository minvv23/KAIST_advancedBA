{
 "cells": [
  {
   "cell_type": "markdown",
   "metadata": {},
   "source": [
    "# File I/O and Sentiment Data Aggregation\n",
    "## TaeYoung Kang (minvv23@gmail.com)"
   ]
  },
  {
   "cell_type": "code",
   "execution_count": 46,
   "metadata": {},
   "outputs": [],
   "source": [
    "import sys\n",
    "import glob\n",
    "import os\n",
    "import re\n",
    "import pickle\n",
    "import numpy as np\n",
    "import pandas as pd"
   ]
  },
  {
   "cell_type": "code",
   "execution_count": 98,
   "metadata": {},
   "outputs": [
    {
     "name": "stdout",
     "output_type": "stream",
     "text": [
      "Original label names are {'POSITIVE', 'NEGATIVE', 'MIXED', 'NEUTRAL'}\n",
      "Edited label names are {0, 1, -1} \n",
      "\n",
      "The Final ISKON data format would be...\n"
     ]
    },
    {
     "data": {
      "text/html": [
       "<div>\n",
       "<style scoped>\n",
       "    .dataframe tbody tr th:only-of-type {\n",
       "        vertical-align: middle;\n",
       "    }\n",
       "\n",
       "    .dataframe tbody tr th {\n",
       "        vertical-align: top;\n",
       "    }\n",
       "\n",
       "    .dataframe thead th {\n",
       "        text-align: right;\n",
       "    }\n",
       "</style>\n",
       "<table border=\"1\" class=\"dataframe\">\n",
       "  <thead>\n",
       "    <tr style=\"text-align: right;\">\n",
       "      <th></th>\n",
       "      <th>text</th>\n",
       "      <th>label</th>\n",
       "    </tr>\n",
       "  </thead>\n",
       "  <tbody>\n",
       "    <tr>\n",
       "      <th>0</th>\n",
       "      <td>This reativly new temple was a big hindu versi...</td>\n",
       "      <td>-1</td>\n",
       "    </tr>\n",
       "    <tr>\n",
       "      <th>1</th>\n",
       "      <td>Me and my friends enjoyed a lot in ISKCON temp...</td>\n",
       "      <td>1</td>\n",
       "    </tr>\n",
       "    <tr>\n",
       "      <th>2</th>\n",
       "      <td>Otherworldly vibrations throuout the sanctuary...</td>\n",
       "      <td>1</td>\n",
       "    </tr>\n",
       "    <tr>\n",
       "      <th>3</th>\n",
       "      <td>ISKCON temple is very good, located in west of...</td>\n",
       "      <td>1</td>\n",
       "    </tr>\n",
       "    <tr>\n",
       "      <th>4</th>\n",
       "      <td>This is a very good place to be for all the de...</td>\n",
       "      <td>1</td>\n",
       "    </tr>\n",
       "  </tbody>\n",
       "</table>\n",
       "</div>"
      ],
      "text/plain": [
       "                                                text  label\n",
       "0  This reativly new temple was a big hindu versi...     -1\n",
       "1  Me and my friends enjoyed a lot in ISKCON temp...      1\n",
       "2  Otherworldly vibrations throuout the sanctuary...      1\n",
       "3  ISKCON temple is very good, located in west of...      1\n",
       "4  This is a very good place to be for all the de...      1"
      ]
     },
     "execution_count": 98,
     "metadata": {},
     "output_type": "execute_result"
    }
   ],
   "source": [
    "# ISKCON Data\n",
    "iskcondata = pd.read_excel('ISKCON_data.xlsx', sheet_name='duplicates_removed')\n",
    "iskcondata.columns = map(lambda x : '_'.join(x.lower().split()), iskcondata.columns)\n",
    "print('Original label names are', set(iskcondata['review_type']))\n",
    "\n",
    "iskcondata['label'] = iskcondata['review_type'].replace({'POSITIVE':1, 'NEGATIVE':-1, 'MIXED':0, 'NEUTRAL':0})\n",
    "print('Edited label names are', set(iskcondata['label']), '\\n')\n",
    "\n",
    "print('The Final ISKON data format would be...')\n",
    "iskcondata = iskcondata[['text', 'label']]\n",
    "iskcondata.head(5)"
   ]
  },
  {
   "cell_type": "code",
   "execution_count": 97,
   "metadata": {},
   "outputs": [
    {
     "data": {
      "text/html": [
       "<div>\n",
       "<style scoped>\n",
       "    .dataframe tbody tr th:only-of-type {\n",
       "        vertical-align: middle;\n",
       "    }\n",
       "\n",
       "    .dataframe tbody tr th {\n",
       "        vertical-align: top;\n",
       "    }\n",
       "\n",
       "    .dataframe thead th {\n",
       "        text-align: right;\n",
       "    }\n",
       "</style>\n",
       "<table border=\"1\" class=\"dataframe\">\n",
       "  <thead>\n",
       "    <tr style=\"text-align: right;\">\n",
       "      <th></th>\n",
       "      <th>text</th>\n",
       "      <th>label</th>\n",
       "    </tr>\n",
       "  </thead>\n",
       "  <tbody>\n",
       "    <tr>\n",
       "      <th>0</th>\n",
       "      <td>How unhappy some dogs like it though</td>\n",
       "      <td>-1</td>\n",
       "    </tr>\n",
       "    <tr>\n",
       "      <th>1</th>\n",
       "      <td>talking to my over driver about where I'm goin...</td>\n",
       "      <td>-1</td>\n",
       "    </tr>\n",
       "    <tr>\n",
       "      <th>2</th>\n",
       "      <td>Does anybody know if the Rand's likely to fall...</td>\n",
       "      <td>-1</td>\n",
       "    </tr>\n",
       "    <tr>\n",
       "      <th>3</th>\n",
       "      <td>I miss going to gigs in Liverpool unhappy</td>\n",
       "      <td>-1</td>\n",
       "    </tr>\n",
       "    <tr>\n",
       "      <th>4</th>\n",
       "      <td>There isnt a new Riverdale tonight ? unhappy</td>\n",
       "      <td>-1</td>\n",
       "    </tr>\n",
       "  </tbody>\n",
       "</table>\n",
       "</div>"
      ],
      "text/plain": [
       "                                                text  label\n",
       "0               How unhappy some dogs like it though     -1\n",
       "1  talking to my over driver about where I'm goin...     -1\n",
       "2  Does anybody know if the Rand's likely to fall...     -1\n",
       "3          I miss going to gigs in Liverpool unhappy     -1\n",
       "4       There isnt a new Riverdale tonight ? unhappy     -1"
      ]
     },
     "execution_count": 97,
     "metadata": {},
     "output_type": "execute_result"
    }
   ],
   "source": [
    "# Twitter Sentiment Data\n",
    "tweet_negative = np.vectorize(lambda x : ' '.join(x.split()))(pd.read_csv('./other_sentiment_dataset/twittertweets_processedNegative.csv').columns.to_series())\n",
    "tweet_neutral = np.vectorize(lambda x : ' '.join(x.split()))(pd.read_csv('./other_sentiment_dataset/twittertweets_processedNeutral.csv').columns.to_series())\n",
    "tweet_positive = np.vectorize(lambda x : ' '.join(x.split()))(pd.read_csv('./other_sentiment_dataset/twittertweets_processedPositive.csv').columns.to_series())\n",
    "twitterdata = pd.DataFrame(zip(np.concatenate((tweet_negative, tweet_neutral, tweet_positive)),\n",
    "                                 np.concatenate((np.repeat(-1, len(tweet_negative)),\n",
    "                                                 np.repeat(0, len(tweet_neutral)),\n",
    "                                                 np.repeat(1, len(tweet_positive))))),\n",
    "                            columns = ['text', 'label'])\n",
    "twitterdata.head(5)"
   ]
  },
  {
   "cell_type": "code",
   "execution_count": 102,
   "metadata": {},
   "outputs": [],
   "source": [
    "airlinedata = pd.read_csv('./other_sentiment_dataset/twitter_airline_sentiment_tweets.csv')"
   ]
  }
 ],
 "metadata": {
  "kernelspec": {
   "display_name": "Python 3",
   "language": "python",
   "name": "python3"
  },
  "language_info": {
   "codemirror_mode": {
    "name": "ipython",
    "version": 3
   },
   "file_extension": ".py",
   "mimetype": "text/x-python",
   "name": "python",
   "nbconvert_exporter": "python",
   "pygments_lexer": "ipython3",
   "version": "3.7.0"
  }
 },
 "nbformat": 4,
 "nbformat_minor": 4
}
